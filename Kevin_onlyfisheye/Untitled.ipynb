{
 "cells": [
  {
   "cell_type": "code",
   "execution_count": 5,
   "metadata": {},
   "outputs": [],
   "source": [
    "import torch"
   ]
  },
  {
   "cell_type": "code",
   "execution_count": 8,
   "metadata": {},
   "outputs": [
    {
     "data": {
      "text/plain": [
       "tensor([10.0000,  9.9596,  9.9192,  9.8788,  9.8384,  9.7980,  9.7576,  9.7172,\n",
       "         9.6768,  9.6364,  9.5960,  9.5556,  9.5152,  9.4747,  9.4343,  9.3939,\n",
       "         9.3535,  9.3131,  9.2727,  9.2323,  9.1919,  9.1515,  9.1111,  9.0707,\n",
       "         9.0303,  8.9899,  8.9495,  8.9091,  8.8687,  8.8283,  8.7879,  8.7475,\n",
       "         8.7071,  8.6667,  8.6263,  8.5859,  8.5455,  8.5051,  8.4646,  8.4242,\n",
       "         8.3838,  8.3434,  8.3030,  8.2626,  8.2222,  8.1818,  8.1414,  8.1010,\n",
       "         8.0606,  8.0202,  7.9798,  7.9394,  7.8990,  7.8586,  7.8182,  7.7778,\n",
       "         7.7374,  7.6970,  7.6566,  7.6162,  7.5758,  7.5354,  7.4949,  7.4545,\n",
       "         7.4141,  7.3737,  7.3333,  7.2929,  7.2525,  7.2121,  7.1717,  7.1313,\n",
       "         7.0909,  7.0505,  7.0101,  6.9697,  6.9293,  6.8889,  6.8485,  6.8081,\n",
       "         6.7677,  6.7273,  6.6869,  6.6465,  6.6061,  6.5657,  6.5253,  6.4848,\n",
       "         6.4444,  6.4040,  6.3636,  6.3232,  6.2828,  6.2424,  6.2020,  6.1616,\n",
       "         6.1212,  6.0808,  6.0404,  6.0000], dtype=torch.float64)"
      ]
     },
     "execution_count": 8,
     "metadata": {},
     "output_type": "execute_result"
    }
   ],
   "source": [
    "rew = torch.linspace(10,6,dtype=float)\n",
    "rew"
   ]
  },
  {
   "cell_type": "code",
   "execution_count": 18,
   "metadata": {},
   "outputs": [
    {
     "data": {
      "text/plain": [
       "tensor([[0.0704, 0.3156, 0.1959, 0.2582, 0.9185, 0.6724],\n",
       "        [0.0408, 0.5974, 0.4589, 0.5392, 0.6404, 0.3297],\n",
       "        [0.2696, 0.0774, 0.9438, 0.5115, 0.7127, 0.5484],\n",
       "        [0.5217, 0.6422, 0.3969, 0.0483, 0.1736, 0.5403]], dtype=torch.float64)"
      ]
     },
     "execution_count": 18,
     "metadata": {},
     "output_type": "execute_result"
    }
   ],
   "source": [
    "b = torch.rand((4,6),dtype = float)\n",
    "b"
   ]
  },
  {
   "cell_type": "code",
   "execution_count": 19,
   "metadata": {},
   "outputs": [
    {
     "data": {
      "text/plain": [
       "tensor([[0.7035, 3.1562, 1.9591, 2.5821, 9.1846, 6.7240],\n",
       "        [0.4078, 5.9741, 4.5892, 5.3917, 6.4037, 3.2970],\n",
       "        [2.6960, 0.7740, 9.4385, 5.1152, 7.1271, 5.4841],\n",
       "        [5.2169, 6.4224, 3.9690, 0.4834, 1.7359, 5.4029]], dtype=torch.float64)"
      ]
     },
     "execution_count": 19,
     "metadata": {},
     "output_type": "execute_result"
    }
   ],
   "source": [
    "b.mul(rew)"
   ]
  },
  {
   "cell_type": "code",
   "execution_count": 20,
   "metadata": {},
   "outputs": [
    {
     "data": {
      "text/plain": [
       "'torch.DoubleTensor'"
      ]
     },
     "execution_count": 20,
     "metadata": {},
     "output_type": "execute_result"
    }
   ],
   "source": [
    "b.type()"
   ]
  },
  {
   "cell_type": "code",
   "execution_count": 26,
   "metadata": {},
   "outputs": [
    {
     "data": {
      "text/plain": [
       "tensor([[0.1980, 0.8861, 0.1390, 0.2125, 0.0932, 0.2173],\n",
       "        [0.5579, 0.3350, 0.3092, 0.1416, 0.4797, 0.6289],\n",
       "        [0.4009, 0.3881, 0.2827, 0.5299, 0.9880, 0.6572],\n",
       "        [0.6824, 0.0794, 0.5055, 0.3060, 0.8900, 0.4643]], dtype=torch.float64)"
      ]
     },
     "execution_count": 26,
     "metadata": {},
     "output_type": "execute_result"
    }
   ],
   "source": [
    "a =torch.rand((4,6),dtype = float)\n",
    "a"
   ]
  },
  {
   "cell_type": "code",
   "execution_count": 31,
   "metadata": {},
   "outputs": [
    {
     "data": {
      "text/plain": [
       "tensor([[0.1980, 0.8861, 0.1390, 0.2125, 0.0932, 0.2173],\n",
       "        [0.5579, 0.3350, 0.3092, 0.1416, 0.4797, 0.6289],\n",
       "        [0.4009, 0.3881, 0.2827, 0.5299, 0.9880, 0.6572],\n",
       "        [0.6824, 0.0794, 0.5055, 0.3060, 0.8900, 0.4643]], dtype=torch.float64)"
      ]
     },
     "execution_count": 31,
     "metadata": {},
     "output_type": "execute_result"
    }
   ],
   "source": [
    "a= a.type(b.type())\n",
    "a"
   ]
  },
  {
   "cell_type": "code",
   "execution_count": 12,
   "metadata": {},
   "outputs": [
    {
     "data": {
      "text/plain": [
       "tensor([1.0000, 0.5623, 0.3162, 0.1778, 0.1000], dtype=torch.float64)"
      ]
     },
     "execution_count": 12,
     "metadata": {},
     "output_type": "execute_result"
    }
   ],
   "source": [
    "rew = torch.logspace(0,-1,5,dtype=float)\n",
    "rew"
   ]
  },
  {
   "cell_type": "code",
   "execution_count": null,
   "metadata": {},
   "outputs": [],
   "source": []
  }
 ],
 "metadata": {
  "kernelspec": {
   "display_name": "Python 3",
   "language": "python",
   "name": "python3"
  },
  "language_info": {
   "codemirror_mode": {
    "name": "ipython",
    "version": 3
   },
   "file_extension": ".py",
   "mimetype": "text/x-python",
   "name": "python",
   "nbconvert_exporter": "python",
   "pygments_lexer": "ipython3",
   "version": "3.6.8"
  }
 },
 "nbformat": 4,
 "nbformat_minor": 2
}
