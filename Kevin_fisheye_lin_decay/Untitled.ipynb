{
 "cells": [
  {
   "cell_type": "code",
   "execution_count": 1,
   "metadata": {},
   "outputs": [],
   "source": [
    "import torch"
   ]
  },
  {
   "cell_type": "code",
   "execution_count": 11,
   "metadata": {},
   "outputs": [
    {
     "data": {
      "text/plain": [
       "tensor([10., 10., 10., 10., 10., 10.], dtype=torch.float64)"
      ]
     },
     "execution_count": 11,
     "metadata": {},
     "output_type": "execute_result"
    }
   ],
   "source": [
    "rew = torch.linspace(10,,6,dtype=float)\n",
    "rew"
   ]
  },
  {
   "cell_type": "code",
   "execution_count": 18,
   "metadata": {},
   "outputs": [
    {
     "data": {
      "text/plain": [
       "tensor([[0.0704, 0.3156, 0.1959, 0.2582, 0.9185, 0.6724],\n",
       "        [0.0408, 0.5974, 0.4589, 0.5392, 0.6404, 0.3297],\n",
       "        [0.2696, 0.0774, 0.9438, 0.5115, 0.7127, 0.5484],\n",
       "        [0.5217, 0.6422, 0.3969, 0.0483, 0.1736, 0.5403]], dtype=torch.float64)"
      ]
     },
     "execution_count": 18,
     "metadata": {},
     "output_type": "execute_result"
    }
   ],
   "source": [
    "b = torch.rand((4,6),dtype = float)\n",
    "b"
   ]
  },
  {
   "cell_type": "code",
   "execution_count": 19,
   "metadata": {},
   "outputs": [
    {
     "data": {
      "text/plain": [
       "tensor([[0.7035, 3.1562, 1.9591, 2.5821, 9.1846, 6.7240],\n",
       "        [0.4078, 5.9741, 4.5892, 5.3917, 6.4037, 3.2970],\n",
       "        [2.6960, 0.7740, 9.4385, 5.1152, 7.1271, 5.4841],\n",
       "        [5.2169, 6.4224, 3.9690, 0.4834, 1.7359, 5.4029]], dtype=torch.float64)"
      ]
     },
     "execution_count": 19,
     "metadata": {},
     "output_type": "execute_result"
    }
   ],
   "source": [
    "b.mul(rew)"
   ]
  },
  {
   "cell_type": "code",
   "execution_count": 20,
   "metadata": {},
   "outputs": [
    {
     "data": {
      "text/plain": [
       "'torch.DoubleTensor'"
      ]
     },
     "execution_count": 20,
     "metadata": {},
     "output_type": "execute_result"
    }
   ],
   "source": [
    "b.type()"
   ]
  },
  {
   "cell_type": "code",
   "execution_count": 26,
   "metadata": {},
   "outputs": [
    {
     "data": {
      "text/plain": [
       "tensor([[0.1980, 0.8861, 0.1390, 0.2125, 0.0932, 0.2173],\n",
       "        [0.5579, 0.3350, 0.3092, 0.1416, 0.4797, 0.6289],\n",
       "        [0.4009, 0.3881, 0.2827, 0.5299, 0.9880, 0.6572],\n",
       "        [0.6824, 0.0794, 0.5055, 0.3060, 0.8900, 0.4643]], dtype=torch.float64)"
      ]
     },
     "execution_count": 26,
     "metadata": {},
     "output_type": "execute_result"
    }
   ],
   "source": [
    "a =torch.rand((4,6),dtype = float)\n",
    "a"
   ]
  },
  {
   "cell_type": "code",
   "execution_count": 31,
   "metadata": {},
   "outputs": [
    {
     "data": {
      "text/plain": [
       "tensor([[0.1980, 0.8861, 0.1390, 0.2125, 0.0932, 0.2173],\n",
       "        [0.5579, 0.3350, 0.3092, 0.1416, 0.4797, 0.6289],\n",
       "        [0.4009, 0.3881, 0.2827, 0.5299, 0.9880, 0.6572],\n",
       "        [0.6824, 0.0794, 0.5055, 0.3060, 0.8900, 0.4643]], dtype=torch.float64)"
      ]
     },
     "execution_count": 31,
     "metadata": {},
     "output_type": "execute_result"
    }
   ],
   "source": [
    "a= a.type(b.type())\n",
    "a"
   ]
  },
  {
   "cell_type": "code",
   "execution_count": null,
   "metadata": {},
   "outputs": [],
   "source": []
  }
 ],
 "metadata": {
  "kernelspec": {
   "display_name": "Python 3",
   "language": "python",
   "name": "python3"
  },
  "language_info": {
   "codemirror_mode": {
    "name": "ipython",
    "version": 3
   },
   "file_extension": ".py",
   "mimetype": "text/x-python",
   "name": "python",
   "nbconvert_exporter": "python",
   "pygments_lexer": "ipython3",
   "version": "3.6.8"
  }
 },
 "nbformat": 4,
 "nbformat_minor": 2
}
